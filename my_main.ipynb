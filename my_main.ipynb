{
 "cells": [
  {
   "cell_type": "code",
   "execution_count": 1,
   "metadata": {},
   "outputs": [],
   "source": [
    "from model.agree import AGREE\n",
    "import torch\n",
    "import torch.nn as nn\n",
    "import torch.autograd as autograd\n",
    "from torch.autograd import Variable\n",
    "import torch.optim as optim\n",
    "import torch.nn.functional as F\n",
    "import numpy as np\n",
    "from time import time\n",
    "from config import Config\n",
    "from utils.util import Helper\n",
    "from dataset import GDataset"
   ]
  },
  {
   "cell_type": "code",
   "execution_count": 3,
   "metadata": {},
   "outputs": [],
   "source": [
    "def training(model, train_loader, epoch_id, config, type_m):\n",
    "    # user trainning\n",
    "    learning_rates = config.lr\n",
    "    # learning rate decay\n",
    "    lr = learning_rates[0]\n",
    "    if epoch_id >= 15 and epoch_id < 25:\n",
    "        lr = learning_rates[1]\n",
    "    elif epoch_id >=20:\n",
    "        lr = learning_rates[2]\n",
    "    # lr decay\n",
    "    if epoch_id % 5 == 0:\n",
    "        lr /= 2\n",
    "\n",
    "    # optimizer\n",
    "    optimizer = optim.RMSprop(model.parameters(), lr)\n",
    "\n",
    "    losses = []\n",
    "    for batch_id, (u, pi_ni) in enumerate(train_loader):\n",
    "        # Data Load\n",
    "        user_input = u\n",
    "        pos_item_input = pi_ni[:, 0]\n",
    "        neg_item_input = pi_ni[:, 1]\n",
    "        # Forward\n",
    "        if type_m == 'user':\n",
    "            pos_prediction = model(None, user_input, pos_item_input)\n",
    "            neg_prediction = model(None, user_input, neg_item_input)\n",
    "        elif type_m == 'group':\n",
    "            pos_prediction = model(user_input, None, pos_item_input)\n",
    "            neg_prediction = model(user_input, None, neg_item_input)\n",
    "        # Zero_grad\n",
    "        model.zero_grad()\n",
    "        # Loss\n",
    "        loss = torch.mean((pos_prediction - neg_prediction -1) **2)\n",
    "        # record loss history\n",
    "        losses.append(torch.Tensor.cpu(loss).detach().numpy())\n",
    "        # Backward\n",
    "        loss.backward()\n",
    "        optimizer.step()\n",
    "\n",
    "    print('Iteration %d, loss is [%.4f ]' % (epoch_id, np.mean(losses)))\n",
    "\n",
    "\n",
    "\n",
    "\n",
    "def evaluation(model, helper, testRatings, testNegatives, K, type_m):\n",
    "    model.eval()\n",
    "    (hits, ndcgs) = helper.evaluate_model(model, testRatings, testNegatives, K, type_m)\n",
    "    hr, ndcg = np.array(hits).mean(), np.array(ndcgs).mean()\n",
    "    return hr, ndcg\n"
   ]
  },
  {
   "cell_type": "code",
   "execution_count": 4,
   "metadata": {},
   "outputs": [
    {
     "data": {
      "text/plain": [
       "AGREE(\n",
       "  (userembeds): UserEmbeddingLayer(\n",
       "    (userEmbedding): Embedding(602, 32)\n",
       "  )\n",
       "  (itemembeds): ItemEmbeddingLayer(\n",
       "    (itemEmbedding): Embedding(7710, 32)\n",
       "  )\n",
       "  (groupembeds): GroupEmbeddingLayer(\n",
       "    (groupEmbedding): Embedding(290, 32)\n",
       "  )\n",
       "  (attention): AttentionLayer(\n",
       "    (linear): Sequential(\n",
       "      (0): Linear(in_features=64, out_features=16, bias=True)\n",
       "      (1): ReLU()\n",
       "      (2): Dropout(p=0.2, inplace=False)\n",
       "      (3): Linear(in_features=16, out_features=1, bias=True)\n",
       "    )\n",
       "  )\n",
       "  (predictlayer): PredictLayer(\n",
       "    (linear): Sequential(\n",
       "      (0): Linear(in_features=96, out_features=8, bias=True)\n",
       "      (1): ReLU()\n",
       "      (2): Dropout(p=0.2, inplace=False)\n",
       "      (3): Linear(in_features=8, out_features=1, bias=True)\n",
       "    )\n",
       "  )\n",
       ")"
      ]
     },
     "execution_count": 4,
     "metadata": {},
     "output_type": "execute_result"
    }
   ],
   "source": [
    "    # initial parameter class\n",
    "    config = Config()\n",
    "\n",
    "    # initial helper\n",
    "    helper = Helper()\n",
    "\n",
    "    # get the dict of users in group\n",
    "    g_m_d = helper.gen_group_member_dict(config.user_in_group_path)\n",
    "\n",
    "    # initial dataSet class\n",
    "    dataset = GDataset(config.user_dataset, config.group_dataset, config.num_negatives)\n",
    "\n",
    "    # get group number\n",
    "    num_group = len(g_m_d)\n",
    "    num_users, num_items = dataset.num_users, dataset.num_items\n",
    "\n",
    "    # build AGREE model\n",
    "    agree = AGREE(num_users, num_items, num_group, config.embedding_size, g_m_d, config.drop_ratio)\n",
    "    agree.cuda(\"cuda:0\")\n",
    "    \n"
   ]
  },
  {
   "cell_type": "code",
   "execution_count": 6,
   "metadata": {},
   "outputs": [
    {
     "data": {
      "text/plain": [
       "True"
      ]
     },
     "execution_count": 6,
     "metadata": {},
     "output_type": "execute_result"
    }
   ],
   "source": [
    "torch.cuda.is_available()"
   ]
  },
  {
   "cell_type": "code",
   "execution_count": null,
   "metadata": {},
   "outputs": [],
   "source": [
    "    # config information\n",
    "    print(\"AGREE at embedding size %d, run Iteration:%d, NDCG and HR at %d\" %(config.embedding_size, config.epoch, config.topK))\n",
    "    # train the model\n",
    "    for epoch in range(config.epoch):\n",
    "        agree.train()\n",
    "        # 开始训练时间\n",
    "        t1 = time()\n",
    "        training(agree, dataset.get_user_dataloader(config.batch_size), epoch, config, 'user')\n",
    "\n",
    "        training(agree, dataset.get_group_dataloader(config.batch_size), epoch, config, 'group')\n",
    "        print(\"user and group training time is: [%.1f s]\" % (time()-t1))\n",
    "        # evaluation\n",
    "        t2 = time()\n",
    "        u_hr, u_ndcg = evaluation(agree, helper, dataset.user_testRatings, dataset.user_testNegatives, config.topK, 'user')\n",
    "        print('User Iteration %d [%.1f s]: HR = %.4f, NDCG = %.4f, [%.1f s]' % (\n",
    "            epoch, time() - t1, u_hr, u_ndcg, time() - t2))\n",
    "\n",
    "        hr, ndcg = evaluation(agree, helper, dataset.group_testRatings, dataset.group_testNegatives, config.topK, 'group')\n",
    "        print(\n",
    "            'Group Iteration %d [%.1f s]: HR = %.4f, '\n",
    "            'NDCG = %.4f, [%.1f s]' % (epoch, time() - t1, hr, ndcg, time() - t2))\n",
    "\n",
    "\n",
    "    print(\"Done!\")"
   ]
  },
  {
   "cell_type": "code",
   "execution_count": 10,
   "metadata": {},
   "outputs": [
    {
     "data": {
      "text/plain": [
       "'|===========================================================================|\\n|                  PyTorch CUDA memory summary, device ID 0                 |\\n|---------------------------------------------------------------------------|\\n|            CUDA OOMs: 0            |        cudaMalloc retries: 0         |\\n|===========================================================================|\\n|        Metric         | Cur Usage  | Peak Usage | Tot Alloc  | Tot Freed  |\\n|---------------------------------------------------------------------------|\\n| Allocated memory      |    2173 KB |    9073 KB |    2911 GB |    2911 GB |\\n|---------------------------------------------------------------------------|\\n| Active memory         |    2173 KB |    9073 KB |    2911 GB |    2911 GB |\\n|---------------------------------------------------------------------------|\\n| GPU reserved memory   |   10240 KB |   10240 KB |   10240 KB |       0 B  |\\n|---------------------------------------------------------------------------|\\n| Non-releasable memory |    3970 KB |    5051 KB |    3123 GB |    3123 GB |\\n|---------------------------------------------------------------------------|\\n| Allocations           |      24    |    5177    |   55817 K  |   55817 K  |\\n|---------------------------------------------------------------------------|\\n| Active allocs         |      24    |    5177    |   55817 K  |   55817 K  |\\n|---------------------------------------------------------------------------|\\n| GPU reserved segments |       5    |       5    |       5    |       0    |\\n|---------------------------------------------------------------------------|\\n| Non-releasable allocs |      10    |      23    |   33020 K  |   33020 K  |\\n|===========================================================================|\\n'"
      ]
     },
     "execution_count": 10,
     "metadata": {},
     "output_type": "execute_result"
    }
   ],
   "source": [
    "torch.cuda.memory_summary(0,True)"
   ]
  },
  {
   "cell_type": "code",
   "execution_count": 16,
   "metadata": {},
   "outputs": [
    {
     "data": {
      "text/plain": [
       "2225664"
      ]
     },
     "execution_count": 16,
     "metadata": {},
     "output_type": "execute_result"
    }
   ],
   "source": [
    "torch.cuda.memory_allocated()"
   ]
  },
  {
   "cell_type": "code",
   "execution_count": null,
   "metadata": {},
   "outputs": [],
   "source": []
  }
 ],
 "metadata": {
  "kernelspec": {
   "display_name": "Python 3",
   "language": "python",
   "name": "python3"
  },
  "language_info": {
   "codemirror_mode": {
    "name": "ipython",
    "version": 3
   },
   "file_extension": ".py",
   "mimetype": "text/x-python",
   "name": "python",
   "nbconvert_exporter": "python",
   "pygments_lexer": "ipython3",
   "version": "3.7.0"
  }
 },
 "nbformat": 4,
 "nbformat_minor": 2
}
